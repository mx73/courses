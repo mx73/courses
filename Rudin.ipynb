{
 "cells": [
  {
   "cell_type": "markdown",
   "metadata": {},
   "source": [
    "# The Real and Complex Number Systems"
   ]
  },
  {
   "cell_type": "markdown",
   "metadata": {
    "heading_collapsed": true
   },
   "source": [
    "## Example: Introduction to the existence of irrational numbers"
   ]
  },
  {
   "cell_type": "markdown",
   "metadata": {
    "ExecuteTime": {
     "end_time": "2020-09-27T03:19:34.975411Z",
     "start_time": "2020-09-27T03:19:34.953933Z"
    },
    "hidden": true
   },
   "source": [
    "\\begin{equation}\n",
    "p^2 = 2\n",
    "\\end{equation}\n",
    "\n",
    "If $p = m/n$ ($m,n$ natural and not both even (reduced fractions), 'cause it's \"rational\"), then\n",
    "\n",
    "\\begin{equation}\n",
    "  m^2 = 2 n^2\n",
    "\\end{equation}\n",
    "\n",
    "meaning $m^2$ is even, meaning $m^2$ is divisible by $4$ (all squared of numbers are either odd or divisible by 4), meaning $n^2$ is even but only divisible by $2$, which is weird.\n",
    "\n",
    "Also, there's no biggest/smallest number s.t. $p^2 < 2$ / $p^2 > 2$. Consider $q$:\n",
    "\n",
    "\\begin{equation}q=p-\\frac{p^{2}-2}{p+2}=\\frac{2 p+2}{p+2}\\end{equation}\n",
    "\n",
    "\\begin{equation}q^{2}-2=\\frac{2\\left(p^{2}-2\\right)}{(p+2)^{2}}\\end{equation}\n",
    "\n",
    "If $p^2 < 2$ then $q>p$ yet $q^2 < 2$, and vice versa."
   ]
  },
  {
   "cell_type": "markdown",
   "metadata": {
    "heading_collapsed": true
   },
   "source": [
    "## Remarks: Gaps in $Q$"
   ]
  },
  {
   "cell_type": "markdown",
   "metadata": {
    "hidden": true
   },
   "source": [
    "Despite the fact that rational numbers have infinite certain gaps: $r < (r+s)/2 < s$, these irrational numbers fill in gaps *in between* rational numbers."
   ]
  },
  {
   "cell_type": "markdown",
   "metadata": {
    "ExecuteTime": {
     "end_time": "2020-09-27T02:19:07.139615Z",
     "start_time": "2020-09-27T02:19:07.134045Z"
    },
    "heading_collapsed": true
   },
   "source": [
    "## Definition: Set-theoretic"
   ]
  },
  {
   "cell_type": "markdown",
   "metadata": {
    "hidden": true
   },
   "source": [
    "- If $A$ is a set, $x \\in A$ is an element of $A$; $x \\notin A$ otherwise.\n",
    "- $A = \\emptyset $ if $A$ is a set without elements.\n",
    "- $A \\subset B$ if $\\forall x \\in A, x \\in B$. A *proper* subset means $\\exists x \\in B, x \\notin A$.\n",
    "- $A \\subset B$ and $B \\subset A \\Rightarrow$ $A = B#. "
   ]
  },
  {
   "cell_type": "markdown",
   "metadata": {
    "heading_collapsed": true
   },
   "source": [
    "## Definition: Rational numbers"
   ]
  },
  {
   "cell_type": "markdown",
   "metadata": {
    "hidden": true
   },
   "source": [
    "It's $Q$."
   ]
  },
  {
   "cell_type": "markdown",
   "metadata": {
    "heading_collapsed": true
   },
   "source": [
    "## Definition: Order"
   ]
  },
  {
   "cell_type": "markdown",
   "metadata": {
    "hidden": true
   },
   "source": [
    "Let $S$ be a set. An *order* is a relation s.t.:\n",
    "\n",
    "1. If $x \\in S$ and $y \\in S$ then either $x < y$, $x = y$ or $x > y$.\n",
    "2. If $x,y,z \\in S, x < y, y < z \\Rightarrow x < z$. "
   ]
  },
  {
   "cell_type": "markdown",
   "metadata": {
    "heading_collapsed": true
   },
   "source": [
    "## Definition: Ordered Set"
   ]
  },
  {
   "cell_type": "markdown",
   "metadata": {
    "hidden": true
   },
   "source": [
    "An *ordered set* is a set in which an order is defined.\n",
    "\n",
    "***Example:*** $Q$ where $r<s \\Leftrightarrow r - s$ is positive."
   ]
  },
  {
   "cell_type": "markdown",
   "metadata": {
    "heading_collapsed": true
   },
   "source": [
    "## Definition: Bound"
   ]
  },
  {
   "cell_type": "markdown",
   "metadata": {
    "hidden": true
   },
   "source": [
    "$S$ is an ordered set and $E \\subset S$. If $\\exists \\beta \\in S$ s.t. $x \\le \\beta \\ \\forall x \\in E $, $E$ is *bounded above* and $\\beta$ is the *upper bound* of $E$.\n",
    "\n",
    "Lower bounds vice versa"
   ]
  },
  {
   "cell_type": "markdown",
   "metadata": {
    "heading_collapsed": true
   },
   "source": [
    "## Definition: $\\sup$ and $\\inf$"
   ]
  },
  {
   "cell_type": "markdown",
   "metadata": {
    "hidden": true
   },
   "source": [
    "$S$ is an ordered set, $E \\subset S$ and $E$ is bounded above. If $\\exists \\alpha \\in S$ s.t.\n",
    "\n",
    "1. $\\alpha$ is an upper bound of $E$,\n",
    "2. If $\\gamma < \\alpha \\Rightarrow \\gamma$ is not an upper bound of $E$,\n",
    "\n",
    "then $\\alpha$ is the *least upper bound (supremum)* of $E$ and we write:\n",
    "\n",
    "$$\\alpha = \\sup E$$\n",
    "\n",
    "Vice versa for *greatest lower bound (infimum)*, we write:\n",
    "\n",
    "$$\\alpha = \\inf E$$\n",
    "\n",
    "**Notice**: The bound can be in or out of the bounded set."
   ]
  },
  {
   "cell_type": "markdown",
   "metadata": {
    "heading_collapsed": true
   },
   "source": [
    "## Examples: Bounds"
   ]
  },
  {
   "cell_type": "markdown",
   "metadata": {
    "hidden": true
   },
   "source": [
    "1. Let $A$ be the set of all positive rationals $p$ s.t. $p^2 < 2$ and $B$ be that in which $p^2 > 2$. We see that:\n",
    "- $A$ contains the lower bounds of $B$ and vice versa but upper bounds.\n",
    "- The least upper/greatest lower bound is $\\sqrt{2}$, but there is no bound for $A/B$ in $Q$ since $\\sqrt{2} \\notin Q$.\n",
    "\n",
    "2. If $\\exists \\alpha = \\sup E$, $\\alpha$ might or might not be in $E$ (noticed above).\n",
    "\n",
    "3. Let $E$ consists of $1/n$ where $n \\in N^*$. Then $\\sup E = 1 \\in E$, but $\\inf E = 0 \\notin E$."
   ]
  },
  {
   "cell_type": "markdown",
   "metadata": {
    "heading_collapsed": true
   },
   "source": [
    "## Definition: LUB property"
   ]
  },
  {
   "cell_type": "markdown",
   "metadata": {
    "hidden": true
   },
   "source": [
    "An ordered set $S$ is said to have LUB property if the following is true in $S$:\n",
    "\n",
    "> If $E \\subset S, E \\ne \\emptyset$ and $E$ bounded above, then always $\\exists \\sup E$.\n",
    "\n",
    "We saw earlier that $Q$ doesn't have this property ($A$ don't have $\\sup$)."
   ]
  },
  {
   "cell_type": "markdown",
   "metadata": {
    "heading_collapsed": true
   },
   "source": [
    "## Theorem: GLB property"
   ]
  },
  {
   "cell_type": "markdown",
   "metadata": {
    "hidden": true
   },
   "source": [
    "Suppose $S$ is an ordered set with LUB; then it also has GLB (always $\\exists \\inf E \\ \\forall E$ bounded below).\n",
    "\n",
    "**Proof**: Let $B$ be that nonempty bounded below set in $S$, we need to prove that $\\exists \\inf B$. Let $L$ be the set of all lower bounds of $B$. Then $\\alpha = \\sup L$ exists (cause $L$ is bounded above and LUB property) and $B$ is the set of all upper bounds of $L$ $ \\Rightarrow \\alpha \\in B$.\n",
    "\n",
    "If $\\gamma < \\alpha$ then $\\gamma$ is not an upper bound of $L$, hence $\\gamma \\notin B \\Rightarrow \\alpha < x \\ \\forall x \\in B \\Rightarrow$ $\\alpha$ is a lower bound of $B$.\n",
    "\n",
    "An element that is both in the set and is a lower bound of that set must be an $\\inf \\Rightarrow \\exists \\inf B$."
   ]
  },
  {
   "cell_type": "markdown",
   "metadata": {
    "heading_collapsed": true
   },
   "source": [
    "## Definition: Fields"
   ]
  },
  {
   "cell_type": "markdown",
   "metadata": {
    "hidden": true
   },
   "source": [
    "A *field* is a set with 2 operations, called *addition* and *multiplication*, which satisfied the \"field axioms\":\n",
    "\n",
    "1. Addition\n",
    "2. Multiplication\n",
    "3. Distributivity"
   ]
  },
  {
   "cell_type": "markdown",
   "metadata": {
    "heading_collapsed": true
   },
   "source": [
    "## Remarks: $Q$ is a field."
   ]
  },
  {
   "cell_type": "markdown",
   "metadata": {
    "heading_collapsed": true
   },
   "source": [
    "## Proposition"
   ]
  },
  {
   "cell_type": "markdown",
   "metadata": {
    "heading_collapsed": true
   },
   "source": [
    "## Proposition"
   ]
  },
  {
   "cell_type": "markdown",
   "metadata": {
    "heading_collapsed": true
   },
   "source": [
    "## Proposition"
   ]
  },
  {
   "cell_type": "markdown",
   "metadata": {
    "heading_collapsed": true
   },
   "source": [
    "## Definition: Ordered field"
   ]
  },
  {
   "cell_type": "markdown",
   "metadata": {
    "hidden": true
   },
   "source": [
    "An *ordered field* is a field F which is also an ordered set s.t.\n",
    "\n",
    "1. $x+y<x+z$ if $x,y,z \\in F$ and $y < z$.\n",
    "2. $xy>0$ if $x,y \\in F, x,y > 0$."
   ]
  },
  {
   "cell_type": "markdown",
   "metadata": {
    "heading_collapsed": true
   },
   "source": [
    "##  Proposition"
   ]
  },
  {
   "cell_type": "markdown",
   "metadata": {
    "heading_collapsed": true
   },
   "source": [
    "## Theorem: The Real Field $R$"
   ]
  },
  {
   "cell_type": "markdown",
   "metadata": {
    "hidden": true
   },
   "source": [
    "There exists an ordered field $R$ which has the LUB property.\n",
    "Moreover, $R$ contains $Q$."
   ]
  },
  {
   "cell_type": "markdown",
   "metadata": {
    "heading_collapsed": true
   },
   "source": [
    "## Theorem: Archimedean property and denseness of $Q$"
   ]
  },
  {
   "cell_type": "markdown",
   "metadata": {
    "hidden": true
   },
   "source": [
    "a) $\\forall x,y \\in R$ where $x > 0$, then $\\exists n >0$ s.t. $nx > y$ (Archimedean).\n",
    "\n",
    "b) $\\forall x,y \\in R$ where $x < y$, then $\\exists p \\in Q$ s.t. $x < p < y$ ($Q$ is dense in $R$)."
   ]
  },
  {
   "cell_type": "markdown",
   "metadata": {
    "heading_collapsed": true
   },
   "source": [
    "## Theorem"
   ]
  },
  {
   "cell_type": "markdown",
   "metadata": {
    "heading_collapsed": true
   },
   "source": [
    "## Decimals"
   ]
  },
  {
   "cell_type": "markdown",
   "metadata": {
    "heading_collapsed": true
   },
   "source": [
    "## Definition: The Extended Real Number System"
   ]
  },
  {
   "cell_type": "markdown",
   "metadata": {
    "heading_collapsed": true
   },
   "source": [
    "## Definition: The Complex Field"
   ]
  },
  {
   "cell_type": "markdown",
   "metadata": {
    "heading_collapsed": true
   },
   "source": [
    "## Theorem"
   ]
  },
  {
   "cell_type": "markdown",
   "metadata": {
    "heading_collapsed": true
   },
   "source": [
    "## Theorem"
   ]
  },
  {
   "cell_type": "markdown",
   "metadata": {
    "heading_collapsed": true
   },
   "source": [
    "## Definition"
   ]
  },
  {
   "cell_type": "markdown",
   "metadata": {
    "heading_collapsed": true
   },
   "source": [
    "## Theorem"
   ]
  },
  {
   "cell_type": "markdown",
   "metadata": {
    "heading_collapsed": true
   },
   "source": [
    "## Theorem"
   ]
  },
  {
   "cell_type": "markdown",
   "metadata": {
    "heading_collapsed": true
   },
   "source": [
    "## Definition: Conjugate"
   ]
  },
  {
   "cell_type": "markdown",
   "metadata": {
    "heading_collapsed": true
   },
   "source": [
    "## Theorem"
   ]
  },
  {
   "cell_type": "markdown",
   "metadata": {
    "heading_collapsed": true
   },
   "source": [
    "## Definition: Absolute value"
   ]
  },
  {
   "cell_type": "markdown",
   "metadata": {
    "heading_collapsed": true
   },
   "source": [
    "## Theorem"
   ]
  },
  {
   "cell_type": "markdown",
   "metadata": {
    "heading_collapsed": true
   },
   "source": [
    "## Notation: Sum $\\sum$"
   ]
  },
  {
   "cell_type": "markdown",
   "metadata": {
    "heading_collapsed": true
   },
   "source": [
    "## Theorem: Schwarz's inequality"
   ]
  },
  {
   "cell_type": "markdown",
   "metadata": {
    "heading_collapsed": true
   },
   "source": [
    "## Definition: Euclidean Spaces"
   ]
  },
  {
   "cell_type": "markdown",
   "metadata": {
    "heading_collapsed": true
   },
   "source": [
    "## Theorem"
   ]
  },
  {
   "cell_type": "markdown",
   "metadata": {
    "heading_collapsed": true
   },
   "source": [
    "## Remarks"
   ]
  },
  {
   "cell_type": "markdown",
   "metadata": {},
   "source": [
    "# Basic Topology"
   ]
  },
  {
   "cell_type": "markdown",
   "metadata": {},
   "source": [
    "## Definition: Function, domain, and range"
   ]
  },
  {
   "cell_type": "markdown",
   "metadata": {},
   "source": [
    "## Definition: Image of a set; into, onto, and 1-1 correspondence"
   ]
  },
  {
   "cell_type": "markdown",
   "metadata": {},
   "source": [
    "## Definition: Equivalence"
   ]
  },
  {
   "cell_type": "markdown",
   "metadata": {},
   "source": [
    "## Definition: Infinity and Countability"
   ]
  },
  {
   "cell_type": "markdown",
   "metadata": {},
   "source": [
    "## Example: Finite sets and 1-1 correspondence"
   ]
  },
  {
   "cell_type": "markdown",
   "metadata": {},
   "source": [
    "## Remark: A finite set cannot be equivalent to its proper subsets, but an infinite set can"
   ]
  },
  {
   "cell_type": "markdown",
   "metadata": {},
   "source": [
    "In fact, a set is infinite if it is equivalent to one of its proper subsets."
   ]
  },
  {
   "cell_type": "markdown",
   "metadata": {},
   "source": [
    "## Definition: Sequence"
   ]
  },
  {
   "cell_type": "markdown",
   "metadata": {},
   "source": [
    "A 'sequence' $f$ is a function defined on the set $J$ of all positive integers:\n",
    "    $$ f := f(1), f(2), f(3), ...$$\n",
    "If $f(n)=x_n$, we denote the sequence $f$ using ${x_n}$; these are called 'terms' of the sequence.\n",
    "Sometimes we include $f(0)$."
   ]
  },
  {
   "cell_type": "markdown",
   "metadata": {},
   "source": [
    "## Theorem: Subsets of a countable set are countable"
   ]
  },
  {
   "cell_type": "markdown",
   "metadata": {},
   "source": [
    "## Definition: Union and intersection"
   ]
  },
  {
   "cell_type": "markdown",
   "metadata": {},
   "source": [
    "## Examples: Union and intersection"
   ]
  },
  {
   "cell_type": "markdown",
   "metadata": {},
   "source": [
    "b) Let $A$ be the set of real number $x$ where $0<x \\le 1$;\n",
    "Let $E_x$ be the set of real numbers $y$ where $0<y<x$, $\\forall x$.\n",
    "\n",
    "    i) $E_x \\subset E_z \\Leftrightarrow 0 < x \\le z \\le 1$;\n",
    "    ii) $\\bigcup\\limits_{x \\in A} E_x = E_1$;\n",
    "    iii) $\\bigcap\\limits_{x \\in A} E_x = \\emptyset$."
   ]
  }
 ],
 "metadata": {
  "kernelspec": {
   "display_name": "Python 3",
   "language": "python",
   "name": "python3"
  },
  "language_info": {
   "codemirror_mode": {
    "name": "ipython",
    "version": 3
   },
   "file_extension": ".py",
   "mimetype": "text/x-python",
   "name": "python",
   "nbconvert_exporter": "python",
   "pygments_lexer": "ipython3",
   "version": "3.8.5"
  },
  "latex_envs": {
   "LaTeX_envs_menu_present": true,
   "autoclose": false,
   "autocomplete": true,
   "bibliofile": "biblio.bib",
   "cite_by": "apalike",
   "current_citInitial": 1,
   "eqLabelWithNumbers": true,
   "eqNumInitial": 1,
   "hotkeys": {
    "equation": "Ctrl-E",
    "itemize": "Ctrl-I"
   },
   "labels_anchors": false,
   "latex_user_defs": false,
   "report_style_numbering": false,
   "user_envs_cfg": false
  },
  "toc": {
   "base_numbering": 1,
   "nav_menu": {},
   "number_sections": true,
   "sideBar": true,
   "skip_h1_title": false,
   "title_cell": "Table of Contents",
   "title_sidebar": "Contents",
   "toc_cell": false,
   "toc_position": {
    "height": "calc(100% - 180px)",
    "left": "10px",
    "top": "150px",
    "width": "273.188px"
   },
   "toc_section_display": true,
   "toc_window_display": false
  },
  "varInspector": {
   "cols": {
    "lenName": 16,
    "lenType": 16,
    "lenVar": 40
   },
   "kernels_config": {
    "python": {
     "delete_cmd_postfix": "",
     "delete_cmd_prefix": "del ",
     "library": "var_list.py",
     "varRefreshCmd": "print(var_dic_list())"
    },
    "r": {
     "delete_cmd_postfix": ") ",
     "delete_cmd_prefix": "rm(",
     "library": "var_list.r",
     "varRefreshCmd": "cat(var_dic_list()) "
    }
   },
   "types_to_exclude": [
    "module",
    "function",
    "builtin_function_or_method",
    "instance",
    "_Feature"
   ],
   "window_display": false
  }
 },
 "nbformat": 4,
 "nbformat_minor": 4
}
